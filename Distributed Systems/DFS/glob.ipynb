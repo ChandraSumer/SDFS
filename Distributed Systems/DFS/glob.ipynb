{
 "cells": [
  {
   "cell_type": "code",
   "execution_count": 1,
   "metadata": {},
   "outputs": [],
   "source": [
    "# time stamp format in this program\n",
    "TIME_FORMAT_STRING = '%H:%M:%S'\n",
    "\n",
    "# static introducer addr\n",
    "INTRODUCER_HOST = '13.233.99.230'\n",
    "\n",
    "# made for introducer\n",
    "ALL_HOSTS = [\n",
    "    '13.233.99.230',  # 01\n",
    "    '13.233.106.125',  # 02\n",
    "    '65.0.168.138',  # 03\n",
    "    '3.7.45.153',  # 04\n",
    "    '13.235.48.31',  # 05\n",
    "]\n",
    "\n",
    "# default socket port\n",
    "DEFAULT_PORT = 55343\n",
    "\n",
    "# topology of 3 VMs\n",
    "# {source: [dest_1, dest_2, ...]}\n",
    "CONNECTIONS = {\n",
    "    '13.233.99.230': [\n",
    "        '13.233.106.125',\n",
    "        '165.0.168.138',\n",
    "    ],\n",
    "    '13.233.106.125': [\n",
    "        '65.0.168.138',\n",
    "        '3.7.45.153',\n",
    "    ],\n",
    "    '65.0.168.138': [\n",
    "        '3.7.45.153',\n",
    "        '13.235.48.31',\n",
    "    ],\n",
    "    '3.7.45.153': [\n",
    "        '13.235.48.31',\n",
    "        '13.233.99.230',\n",
    "    ],\n",
    "    '13.235.48.31': [\n",
    "        '13.233.99.230',\n",
    "        '13.233.106.125',\n",
    "    ] \n",
    "}\n"
   ]
  },
  {
   "cell_type": "code",
   "execution_count": null,
   "metadata": {},
   "outputs": [],
   "source": []
  }
 ],
 "metadata": {
  "kernelspec": {
   "display_name": "Python 3",
   "language": "python",
   "name": "python3"
  },
  "language_info": {
   "codemirror_mode": {
    "name": "ipython",
    "version": 3
   },
   "file_extension": ".py",
   "mimetype": "text/x-python",
   "name": "python",
   "nbconvert_exporter": "python",
   "pygments_lexer": "ipython3",
   "version": "3.6.9"
  }
 },
 "nbformat": 4,
 "nbformat_minor": 2
}
