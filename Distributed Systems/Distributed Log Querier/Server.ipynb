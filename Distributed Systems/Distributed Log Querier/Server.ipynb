{
 "cells": [
  {
   "cell_type": "code",
   "execution_count": null,
   "metadata": {},
   "outputs": [
    {
     "name": "stdout",
     "output_type": "stream",
     "text": [
      "[INFO]: Waiting for connection ...\n"
     ]
    }
   ],
   "source": [
    "# Echo server program\n",
    "import socket\n",
    "import json\n",
    "import re\n",
    "import os\n",
    "\n",
    "\n",
    "# hard code hosts' (VMs') ip and port here\n",
    "# todo: use config file instead\n",
    "HOST = socket.gethostname()\n",
    "PORT = 55558\n",
    "\n",
    "\n",
    "class Server:\n",
    "    def __init__(self, host=HOST, port=PORT):\n",
    "        \"\"\"\n",
    "        Server initialization.\n",
    "        Make sure the server has already known the .log file.\n",
    "        :param host: server host\n",
    "        :param port: server post\n",
    "        \"\"\"\n",
    "        self.host = host\n",
    "        self.port = port\n",
    "        self.log_path = ''\n",
    "        root = '/home/sumer/Desktop'\n",
    "        for file in os.listdir(root):\n",
    "            if file.endswith('.log'):\n",
    "                self.log_path = os.path.join(root, file)\n",
    "\n",
    "    def run(self):\n",
    "        \"\"\"\n",
    "        Run a server, to receive the query pattern from clients and return log data.\n",
    "        :return: None\n",
    "        \"\"\"\n",
    "        with socket.socket() as s:\n",
    "            s.bind((self.host, self.port))\n",
    "            s.listen(1)\n",
    "            while True:\n",
    "                print('[INFO]: Waiting for connection ...')\n",
    "                conn, addr = s.accept()\n",
    "                with conn:\n",
    "                    print('[INFO]: Connected by', addr)\n",
    "\n",
    "                    # receive the pattern and process data\n",
    "                    try:\n",
    "                        data = conn.recv(1024)\n",
    "                        if data:\n",
    "                            pattern = json.loads(data.decode('utf-8'))['pattern']\n",
    "                            cnt = 0  # line number counter\n",
    "                            buffer = []  # store all the matched results\n",
    "                            with open(self.log_path, 'r') as f:\n",
    "                                for line in f:\n",
    "                                    cnt += 1\n",
    "                                    if re.search(pattern, line):\n",
    "                                        buffer.append({\n",
    "                                            'log_path': self.log_path,\n",
    "                                            'host': self.host,\n",
    "                                            'port': str(self.port),\n",
    "                                            'line_number': cnt,\n",
    "                                            'content': line,\n",
    "                                        })  # json format for returning the matched log results\n",
    "                            # return the results to the client\n",
    "                            if buffer:\n",
    "                                data = json.dumps(buffer).encode('utf-8')\n",
    "                                conn.sendall(data)\n",
    "\n",
    "                    except Exception as e:\n",
    "                        print('[ERROR]:', e.__str__())\n",
    "\n",
    "\n",
    "if __name__ == '__main__':\n",
    "    s = Server()\n",
    "    s.run()"
   ]
  },
  {
   "cell_type": "code",
   "execution_count": null,
   "metadata": {},
   "outputs": [],
   "source": []
  }
 ],
 "metadata": {
  "kernelspec": {
   "display_name": "Python 3",
   "language": "python",
   "name": "python3"
  },
  "language_info": {
   "codemirror_mode": {
    "name": "ipython",
    "version": 3
   },
   "file_extension": ".py",
   "mimetype": "text/x-python",
   "name": "python",
   "nbconvert_exporter": "python",
   "pygments_lexer": "ipython3",
   "version": "3.6.9"
  }
 },
 "nbformat": 4,
 "nbformat_minor": 2
}
